{
 "cells": [
  {
   "cell_type": "markdown",
   "metadata": {},
   "source": [
    "# XGBoost\n",
    "XGBoost stands for Extreme Gradient Boost, which works through gradient descent."
   ]
  },
  {
   "cell_type": "markdown",
   "metadata": {},
   "source": [
    "## Imports"
   ]
  },
  {
   "cell_type": "code",
   "execution_count": 1,
   "metadata": {},
   "outputs": [],
   "source": [
    "import numpy as np\n",
    "import pandas as pd\n",
    "import matplotlib.pyplot as plt\n",
    "from xgboost import XGBRegressor\n",
    "from sklearn.model_selection import train_test_split, cross_val_score\n",
    "from sklearn.metrics import mean_absolute_error\n",
    "from sklearn.impute import SimpleImputer\n",
    "from sklearn.preprocessing import OneHotEncoder\n",
    "from sklearn.pipeline import Pipeline\n",
    "from sklearn.compose import ColumnTransformer"
   ]
  },
  {
   "cell_type": "markdown",
   "metadata": {},
   "source": [
    "## Loading data"
   ]
  },
  {
   "cell_type": "code",
   "execution_count": 2,
   "metadata": {},
   "outputs": [],
   "source": [
    "# Load the .csv files into pandas dataframes\n",
    "X_full = pd.read_csv('train.csv', index_col='Id')\n",
    "X_test_full = pd.read_csv('test.csv', index_col='Id')\n",
    "\n",
    "# Remove rows (axis=0) with null ('NaN') values for the target variable\n",
    "X_full.dropna(axis=0, subset=['SalePrice'], inplace=True)\n",
    "\n",
    "# Separate target and predictor variables\n",
    "y = X_full.SalePrice\n",
    "X = X_full.drop('SalePrice', axis=1, inplace=False)\n",
    "\n",
    "# Split X into training and validation datasets\n",
    "X_train_full, X_valid_full, y_train, y_valid = train_test_split(X, y, train_size = 0.8, test_size = 0.2, random_state=0)"
   ]
  },
  {
   "cell_type": "code",
   "execution_count": 3,
   "metadata": {},
   "outputs": [],
   "source": [
    "# Investigating cardinality of categorical datasets\n",
    "cat_cols = [col for col in X_train_full.columns if X_train_full[col].dtypes == 'object' and X_train_full[col].nunique() < 10]\n",
    "num_cols = [col for col in X_train_full.columns if X_train_full[col].dtypes in ['int64', 'float64']]\n",
    "\n",
    "# Selecting my columns\n",
    "my_cols = cat_cols + num_cols\n",
    "X_train = X_train_full[my_cols].copy()\n",
    "X_valid = X_valid_full[my_cols].copy()\n",
    "\n",
    "# Running some tests\n",
    "# s = X_train_full.dtypes == 'object'\n",
    "# print(len(s[s == False].index), len(s[s == True].index))\n",
    "# print(X_train_full.dtypes.unique())\n",
    "# print(len(num_cols), len(cat_cols))"
   ]
  },
  {
   "cell_type": "markdown",
   "metadata": {},
   "source": [
    "## Using pipelines to further clean my data\n",
    "* Numerical columns: impute missing data\n",
    "* Categorical columns: impute missing data, one-hot encoding"
   ]
  },
  {
   "cell_type": "code",
   "execution_count": 4,
   "metadata": {},
   "outputs": [],
   "source": [
    "numerical_transformer = SimpleImputer(strategy='mean')\n",
    "\n",
    "categorical_transformer = Pipeline(steps=[\n",
    "    ('imputer', SimpleImputer(strategy='most_frequent')),\n",
    "    ('onehot', OneHotEncoder(sparse=False, handle_unknown='ignore'))\n",
    "])\n",
    "\n",
    "preprocessor = ColumnTransformer(transformers=[\n",
    "    ('cat', categorical_transformer, cat_cols),\n",
    "    ('num', numerical_transformer, num_cols)\n",
    "])\n",
    "\n",
    "my_model = XGBRegressor(n_estimators=1000, learning_rate=0.05)\n",
    "\n",
    "my_pipeline = Pipeline(steps=[\n",
    "    ('preprocessor', preprocessor),\n",
    "    ('my_model', my_model)\n",
    "])\n",
    "\n",
    "# help(XGBRegressor)"
   ]
  },
  {
   "cell_type": "markdown",
   "metadata": {},
   "source": [
    "## Training my model\n",
    "\n",
    "    pipeline_name.set_params(...).fit()\n",
    "    \n",
    "* Use this method to set parameters for specific transformers in your pipeline using name__parameter notation"
   ]
  },
  {
   "cell_type": "code",
   "execution_count": 5,
   "metadata": {},
   "outputs": [
    {
     "name": "stdout",
     "output_type": "stream",
     "text": [
      "MAE: 15989.218027611301\n"
     ]
    }
   ],
   "source": [
    "my_pipeline.set_params(my_model__early_stopping_rounds=1, my_model__eval_set=[(X_valid, y_valid)]).fit(X_train, y_train)\n",
    "\n",
    "predictions = my_pipeline.predict(X_valid)\n",
    "mae = mean_absolute_error(y_valid, predictions)\n",
    "print('MAE:', mae)"
   ]
  },
  {
   "cell_type": "markdown",
   "metadata": {},
   "source": [
    "## Testing the model with model predictions"
   ]
  },
  {
   "cell_type": "code",
   "execution_count": 9,
   "metadata": {},
   "outputs": [
    {
     "name": "stdout",
     "output_type": "stream",
     "text": [
      "Cross-validation score: 16259.513230415241\n"
     ]
    }
   ],
   "source": [
    "# No need to worry about cleaning X, y; since pre-processing is part of my_pipeline\n",
    "score = cross_val_score(my_pipeline, X, y,\n",
    "                        cv=5,\n",
    "                        scoring='neg_mean_absolute_error'\n",
    "                        )\n",
    "\n",
    "print('Cross-validation score:', -1 * score.mean())"
   ]
  }
 ],
 "metadata": {
  "kernelspec": {
   "display_name": "Python 3",
   "language": "python",
   "name": "python3"
  },
  "language_info": {
   "codemirror_mode": {
    "name": "ipython",
    "version": 3
   },
   "file_extension": ".py",
   "mimetype": "text/x-python",
   "name": "python",
   "nbconvert_exporter": "python",
   "pygments_lexer": "ipython3",
   "version": "3.7.4"
  }
 },
 "nbformat": 4,
 "nbformat_minor": 2
}
