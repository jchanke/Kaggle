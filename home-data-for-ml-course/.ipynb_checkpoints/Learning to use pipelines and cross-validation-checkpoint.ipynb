{
 "cells": [
  {
   "cell_type": "markdown",
   "metadata": {},
   "source": [
    "## Imports"
   ]
  },
  {
   "cell_type": "code",
   "execution_count": 20,
   "metadata": {},
   "outputs": [],
   "source": [
    "import numpy as np\n",
    "import pandas as pd\n",
    "from sklearn.model_selection import train_test_split, cross_val_score\n",
    "from sklearn.metrics import mean_absolute_error\n",
    "from sklearn.tree import DecisionTreeRegressor\n",
    "from sklearn.ensemble import RandomForestRegressor\n",
    "from sklearn.preprocessing import LabelEncoder, OneHotEncoder\n",
    "from sklearn.impute import SimpleImputer\n",
    "from sklearn.compose import ColumnTransformer\n",
    "from sklearn.pipeline import Pipeline"
   ]
  },
  {
   "cell_type": "markdown",
   "metadata": {},
   "source": [
    "## Loading the train and test data\n",
    "We use the data from the home-data-for-ml-course from Kaggle:\n",
    "* train.csv, which we split to the training and validation datasets\n",
    "* test.csv, which we use to test our model\n",
    "\n",
    "We preliminarily clean the data, by:\n",
    "* dropping the rows with a null ('NaN') target variable\n",
    "* separating the target variable (to y) and the predictor variables (to X)"
   ]
  },
  {
   "cell_type": "code",
   "execution_count": 2,
   "metadata": {},
   "outputs": [],
   "source": [
    "# Load the data\n",
    "X_full = pd.read_csv('train.csv', index_col='Id')\n",
    "X_test_full = pd.read_csv('test.csv', index_col='Id')\n",
    "\n",
    "# Drop the rows (axis=0) with a null target variable, from X_full\n",
    "X_full.dropna(axis=0, subset=['SalePrice'], inplace=True)\n",
    "\n",
    "# Split X_full to X and y\n",
    "# We do this so we don't give the model y (the 'answer') by accident, since it is supposed to predict y from X\n",
    "y = X_full.SalePrice\n",
    "X = X_full.drop('SalePrice', axis=1)"
   ]
  },
  {
   "cell_type": "code",
   "execution_count": 3,
   "metadata": {},
   "outputs": [],
   "source": [
    "# Split X, y into training and validation datasets\n",
    "X_train_full, X_valid_full, y_train, y_valid = train_test_split(X, y, train_size = 0.8, test_size = 0.2, random_state=0)"
   ]
  },
  {
   "cell_type": "code",
   "execution_count": 6,
   "metadata": {},
   "outputs": [
    {
     "data": {
      "text/plain": [
       "[('Street', 2),\n",
       " ('Alley', 2),\n",
       " ('Utilities', 2),\n",
       " ('CentralAir', 2),\n",
       " ('LandSlope', 3),\n",
       " ('GarageFinish', 3),\n",
       " ('PavedDrive', 3),\n",
       " ('PoolQC', 3),\n",
       " ('MiscFeature', 3),\n",
       " ('LotShape', 4),\n",
       " ('LandContour', 4),\n",
       " ('MasVnrType', 4),\n",
       " ('ExterQual', 4),\n",
       " ('BsmtQual', 4),\n",
       " ('BsmtCond', 4),\n",
       " ('BsmtExposure', 4),\n",
       " ('KitchenQual', 4),\n",
       " ('Fence', 4),\n",
       " ('MSZoning', 5),\n",
       " ('LotConfig', 5),\n",
       " ('BldgType', 5),\n",
       " ('ExterCond', 5),\n",
       " ('HeatingQC', 5),\n",
       " ('Electrical', 5),\n",
       " ('FireplaceQu', 5),\n",
       " ('GarageQual', 5),\n",
       " ('GarageCond', 5),\n",
       " ('Condition2', 6),\n",
       " ('RoofStyle', 6),\n",
       " ('Foundation', 6),\n",
       " ('BsmtFinType1', 6),\n",
       " ('BsmtFinType2', 6),\n",
       " ('Heating', 6),\n",
       " ('Functional', 6),\n",
       " ('GarageType', 6),\n",
       " ('SaleCondition', 6),\n",
       " ('RoofMatl', 7),\n",
       " ('HouseStyle', 8),\n",
       " ('Condition1', 9),\n",
       " ('SaleType', 9)]"
      ]
     },
     "execution_count": 6,
     "metadata": {},
     "output_type": "execute_result"
    }
   ],
   "source": [
    "# Investigating cardinality\n",
    "object_nunique = list(map(lambda col : X_train_full[col].nunique(), cat_cols))\n",
    "d = dict(zip(cat_cols, object_nunique))\n",
    "sorted(d.items(), key=lambda x : x[1])"
   ]
  },
  {
   "cell_type": "markdown",
   "metadata": {},
   "source": [
    "Subsequently we want to split our data into numerical columns and categorical columns.\n",
    "\n",
    "For categorical columns, we want to choose only low-cardinality columns; which means excluding the last 3 columns."
   ]
  },
  {
   "cell_type": "code",
   "execution_count": 5,
   "metadata": {},
   "outputs": [],
   "source": [
    "# Selecting numerical columns\n",
    "num_cols = [col for col in X_train_full.columns if X_train_full[col].dtypes in ['int64', 'float64']]\n",
    "\n",
    "# Selecting categorical columns\n",
    "cat_cols = [col for col in X_train_full.columns if X_train_full[col].dtypes == 'object' and X_train_full[col].nunique() < 10]\n",
    "\n",
    "# We have split the columns correctly\n",
    "# len(num_cols) + len(cat_cols) + 3 == len(X_train.columns)\n",
    "\n",
    "# Keep selected columns only\n",
    "my_cols = num_cols + cat_cols\n",
    "X_train = X_train_full[my_cols].copy()\n",
    "X_valid = X_valid_full[my_cols].copy()"
   ]
  },
  {
   "cell_type": "markdown",
   "metadata": {},
   "source": [
    "# Learning to use pipelines\n",
    "A Pipeline() is a sequence of transforms (SimpleImputer, OneHotEncoding, LabelEncoding; DecisionTreeRegressor, RandomForestRegressor) that can be fitted and transformed\n",
    "* Note that Pipelines(), ColumnTransformer() are composite transforms and can be included in Transform1(), Transform2() etc.\n",
    "\n",
    "        \n",
    "        my_pipeline = Pipeline(steps=[\n",
    "            ('name1', Transform1()),\n",
    "            ('name2', Transform2())\n",
    "            ])\n",
    "            \n",
    "A ColumnTransformer() applies different pipelines/transforms to different columns\n",
    "\n",
    "        column_transformer = ColumnTransformer(transformers=[\n",
    "            ('name1', Transform1(), column_list_1), # applies Transform1() to columns in column_list_1\n",
    "            ('name2', Transform2(), column_list_2)  # applies Transform2() to columns in column_list_2\n",
    "            ])"
   ]
  },
  {
   "cell_type": "markdown",
   "metadata": {},
   "source": [
    "## Pre-processing steps\n",
    "* Numerical data: impute missing data\n",
    "* Categorical data: impute missing data, and apply one-hot encoding"
   ]
  },
  {
   "cell_type": "code",
   "execution_count": 15,
   "metadata": {},
   "outputs": [],
   "source": [
    "# Define the transform for numerical columns\n",
    "# No pipeline is needed, since only one transformation is applied\n",
    "numerical_transformer = SimpleImputer(strategy='mean')\n",
    "\n",
    "# Define the transform for categorical column\n",
    "categorical_transformer = Pipeline(steps=[\n",
    "    ('imputer', SimpleImputer(strategy='most_frequent')),\n",
    "    ('onehot', OneHotEncoder(handle_unknown='ignore', sparse=False))\n",
    "])\n",
    "\n",
    "# Define the pre-processor column transformer\n",
    "preprocessor = ColumnTransformer(transformers=[\n",
    "    ('num', numerical_transformer, num_cols),\n",
    "    ('cat', categorical_transformer, cat_cols)\n",
    "])"
   ]
  },
  {
   "cell_type": "markdown",
   "metadata": {},
   "source": [
    "## Defining the model\n",
    "* Using the random forest regressor"
   ]
  },
  {
   "cell_type": "code",
   "execution_count": 16,
   "metadata": {},
   "outputs": [],
   "source": [
    "model = RandomForestRegressor(n_estimators=100, random_state=0)"
   ]
  },
  {
   "cell_type": "markdown",
   "metadata": {},
   "source": [
    "## Create and evaluate the pipeline"
   ]
  },
  {
   "cell_type": "code",
   "execution_count": 25,
   "metadata": {},
   "outputs": [
    {
     "name": "stdout",
     "output_type": "stream",
     "text": [
      "MAE: 17648.417157534244\n"
     ]
    }
   ],
   "source": [
    "my_pipeline = Pipeline(steps=[\n",
    "    ('preprocessor', preprocessor),\n",
    "    ('model', model)\n",
    "])\n",
    "\n",
    "my_pipeline.fit(X_train, y_train)\n",
    "preds = my_pipeline.predict(X_valid)\n",
    "mae = mean_absolute_error(preds, y_valid)\n",
    "print('MAE:', mae)"
   ]
  },
  {
   "cell_type": "markdown",
   "metadata": {},
   "source": [
    "# Cross-validation\n",
    "* Principle: iterate training and testing over the whole dataset so that the whole dataset is eventually used to validate the model\n",
    "\n",
    "\n",
    "* Break the predictor variable dataset X into k 'folds'\n",
    "    * In experiment 1, use fold 1 as the validation dataset\n",
    "    * In experiment 2, use fold 2 as the validation dataset\n",
    "    * ...\n",
    "    * In experiment k, use fold k as the validation dataset\n"
   ]
  },
  {
   "cell_type": "code",
   "execution_count": 24,
   "metadata": {},
   "outputs": [
    {
     "name": "stdout",
     "output_type": "stream",
     "text": [
      "Average MAE: 17664.960273972603\n"
     ]
    }
   ],
   "source": [
    "# Multiply by -1 since cross_val_scores use negative MAE\n",
    "scores = -1 * cross_val_score(my_pipeline, X, y,\n",
    "                             cv=5,\n",
    "                             scoring='neg_mean_absolute_error')\n",
    "\n",
    "print('Average MAE:', scores.mean())"
   ]
  }
 ],
 "metadata": {
  "kernelspec": {
   "display_name": "Python 3",
   "language": "python",
   "name": "python3"
  },
  "language_info": {
   "codemirror_mode": {
    "name": "ipython",
    "version": 3
   },
   "file_extension": ".py",
   "mimetype": "text/x-python",
   "name": "python",
   "nbconvert_exporter": "python",
   "pygments_lexer": "ipython3",
   "version": "3.7.4"
  }
 },
 "nbformat": 4,
 "nbformat_minor": 2
}
